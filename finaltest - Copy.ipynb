{
 "cells": [
  {
   "cell_type": "code",
   "execution_count": 1,
   "metadata": {},
   "outputs": [],
   "source": [
    "import torch\n",
    "import numpy as np\n",
    "import pandas as pd\n",
    "from torch.utils.data import Dataset, DataLoader\n",
    "import torch.nn as nn\n",
    "import cv2\n",
    "import os\n",
    "import matplotlib.pyplot as plt\n",
    "import torch.nn.functional as F\n",
    "from torch import optim\n",
    "import albumentations as A\n",
    "from albumentations.pytorch.transforms import ToTensorV2\n",
    "from torchvision import transforms\n"
   ]
  },
  {
   "cell_type": "code",
   "execution_count": 2,
   "metadata": {},
   "outputs": [],
   "source": [
    "class DatasetPlus(Dataset):\n",
    "    def __init__(self, root_img, root_data, width, hight, transform=None):\n",
    "        self.root_img = root_img\n",
    "        self.root_data = root_data\n",
    "        self.width = width\n",
    "        self.hight = hight\n",
    "        self.transform = transform\n",
    "        # labels are stored in a csv file\n",
    "        self.labels = pd.read_csv(self.root_data)\n",
    "        self.imgs = [image for image in sorted(\n",
    "            os.listdir(self.root_img)) if image[-4:] == '.jpg']\n",
    "        self.len = len(self.imgs)\n",
    "\n",
    "    def __len__(self):\n",
    "        return self.len\n",
    "\n",
    "    def __getitem__(self, idx):\n",
    "        img_name = self.imgs[idx]\n",
    "        img_path = os.path.join(self.root_img, img_name)\n",
    "        img = cv2.imread(img_path)\n",
    "        img = cv2.cvtColor(img, cv2.COLOR_BGR2RGB).astype(np.float32)\n",
    "        img = cv2.resize(img, (self.width, self.hight), cv2.INTER_AREA)\n",
    "        img = np.array(img) / 255.0\n",
    "\n",
    "        if self.transform is not None:\n",
    "            img = self.transform(img)\n",
    "\n",
    "        img_id = int(img_name[6:-4])\n",
    "        label = self.labels.where(self.labels['ID'] == img_id)['Label'].dropna().to_numpy()[0]\n",
    "        if label == 7: label = 0\n",
    "\n",
    "\n",
    "        label = torch.tensor(label, dtype=torch.long)\n",
    "\n",
    "\n",
    "        return img, label"
   ]
  },
  {
   "cell_type": "code",
   "execution_count": 3,
   "metadata": {},
   "outputs": [],
   "source": [
    "class Net(nn.Module):\n",
    "    def __init__(self, h, w):\n",
    "        super().__init__()\n",
    "        nw = (((w - 4) // 2) -4) // 2\n",
    "        nh = (((h - 4) // 2) -4) // 2\n",
    "        self.conv1 = nn.Conv2d(3, 6, 5)\n",
    "        self.pool = nn.MaxPool2d(2, 2)\n",
    "        self.conv2 = nn.Conv2d(6, 16, 5)\n",
    "        self.fc1 = nn.Linear(16 * nh * nw, 120)\n",
    "        self.fc2 = nn.Linear(120, 84)\n",
    "        self.fc3 = nn.Linear(84, 3)\n",
    "\n",
    "    def forward(self, x):\n",
    "        x = self.pool(F.relu(self.conv1(x)))\n",
    "        x = self.pool(F.relu(self.conv2(x)))\n",
    "        x = torch.flatten(x, 1)\n",
    "        x = F.relu(self.fc1(x))\n",
    "        x = F.relu(self.fc2(x))\n",
    "        x = (self.fc3(x))\n",
    "        return x"
   ]
  },
  {
   "cell_type": "code",
   "execution_count": 4,
   "metadata": {},
   "outputs": [],
   "source": [
    "transform = transforms.Compose(\n",
    "    [transforms.ToTensor(),])\n",
    "root_img = 'data/images/'\n",
    "root_label = 'data/metadata/PSL_dataset.csv'\n",
    "ds = DatasetPlus(root_img, root_label, 224, 224, transform=transform)"
   ]
  },
  {
   "cell_type": "code",
   "execution_count": 5,
   "metadata": {},
   "outputs": [],
   "source": [
    "model = Net(224, 224)\n",
    "\n",
    "trainloader = DataLoader(ds, batch_size=4, shuffle=True)\n",
    "\n",
    "criterion = nn.CrossEntropyLoss()\n",
    "\n",
    "optimizer = optim.SGD(model.parameters(), lr=1e-5)"
   ]
  },
  {
   "cell_type": "code",
   "execution_count": 6,
   "metadata": {},
   "outputs": [],
   "source": [
    "def train_model(epochs):\n",
    "    for epoch in range(epochs): \n",
    "        losses = 0.0 \n",
    "        for i, data in enumerate(trainloader, 0):\n",
    "            optimizer.zero_grad()\n",
    "            img, label = data\n",
    "            yhat = model(img)\n",
    "            # yhat = yhat.view(-1)\n",
    "            loss = criterion(yhat, label)\n",
    "            loss.backward()\n",
    "            optimizer.step()\n",
    "            losses += loss.item()\n",
    "            # if i % 5 == 99:\n",
    "            print(f'[{epoch + 1}, {i + 1:5d}] loss: {losses:.3f}')\n",
    "            losses = 0.0\n",
    "        "
   ]
  },
  {
   "cell_type": "code",
   "execution_count": 13,
   "metadata": {},
   "outputs": [
    {
     "name": "stdout",
     "output_type": "stream",
     "text": [
      "[1,     1] loss: 1.084\n",
      "[1,     2] loss: 1.103\n",
      "[1,     3] loss: 1.121\n",
      "[1,     4] loss: 1.093\n"
     ]
    }
   ],
   "source": [
    "train_model(2000)"
   ]
  }
 ],
 "metadata": {
  "kernelspec": {
   "display_name": "Python 3",
   "language": "python",
   "name": "python3"
  },
  "language_info": {
   "codemirror_mode": {
    "name": "ipython",
    "version": 3
   },
   "file_extension": ".py",
   "mimetype": "text/x-python",
   "name": "python",
   "nbconvert_exporter": "python",
   "pygments_lexer": "ipython3",
   "version": "3.10.9"
  },
  "orig_nbformat": 4,
  "vscode": {
   "interpreter": {
    "hash": "2542d7f8f6857724c4b0a650556ef0e5f2aa6f6df52e68195ac9cceae375a361"
   }
  }
 },
 "nbformat": 4,
 "nbformat_minor": 2
}
